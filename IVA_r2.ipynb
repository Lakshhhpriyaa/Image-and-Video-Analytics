{
 "cells": [
  {
   "cell_type": "code",
   "execution_count": 4,
   "id": "5925dd59-03b4-4db7-933f-442f25fa219c",
   "metadata": {},
   "outputs": [
    {
     "name": "stdout",
     "output_type": "stream",
     "text": [
      "Looking in indexes: https://pypi.org/simple, https://pypi.ngc.nvidia.com\n",
      "Requirement already satisfied: torch in c:\\python312\\lib\\site-packages (2.4.1)\n",
      "Requirement already satisfied: torchvision in c:\\python312\\lib\\site-packages (0.19.1)\n",
      "Requirement already satisfied: opencv-python in c:\\python312\\lib\\site-packages (4.10.0.84)\n",
      "Requirement already satisfied: filelock in c:\\python312\\lib\\site-packages (from torch) (3.16.1)\n",
      "Requirement already satisfied: typing-extensions>=4.8.0 in c:\\python312\\lib\\site-packages (from torch) (4.12.2)\n",
      "Requirement already satisfied: sympy in c:\\python312\\lib\\site-packages (from torch) (1.13.3)\n",
      "Requirement already satisfied: networkx in c:\\python312\\lib\\site-packages (from torch) (3.3)\n",
      "Requirement already satisfied: jinja2 in c:\\python312\\lib\\site-packages (from torch) (3.1.4)\n",
      "Requirement already satisfied: fsspec in c:\\python312\\lib\\site-packages (from torch) (2024.9.0)\n",
      "Requirement already satisfied: setuptools in c:\\python312\\lib\\site-packages (from torch) (75.1.0)\n",
      "Requirement already satisfied: numpy in c:\\python312\\lib\\site-packages (from torchvision) (1.26.4)\n",
      "Requirement already satisfied: pillow!=8.3.*,>=5.3.0 in c:\\python312\\lib\\site-packages (from torchvision) (10.4.0)\n",
      "Requirement already satisfied: MarkupSafe>=2.0 in c:\\python312\\lib\\site-packages (from jinja2->torch) (2.1.5)\n",
      "Requirement already satisfied: mpmath<1.4,>=1.1.0 in c:\\python312\\lib\\site-packages (from sympy->torch) (1.3.0)\n",
      "C:\\Users\\ASUS\\21MIA1062\\yolov7\n"
     ]
    },
    {
     "name": "stderr",
     "output_type": "stream",
     "text": [
      "fatal: destination path 'yolov7' already exists and is not an empty directory.\n"
     ]
    },
    {
     "name": "stdout",
     "output_type": "stream",
     "text": [
      "C:\\Users\\ASUS\\21MIA1062\n"
     ]
    }
   ],
   "source": [
    "!pip install torch torchvision opencv-python\n",
    "!git clone https://github.com/WongKinYiu/yolov7.git\n",
    "%cd yolov7\n",
    "!powershell -command \"Invoke-WebRequest -Uri https://github.com/WongKinYiu/yolov7/releases/download/v0.1/yolov7.pt -OutFile yolov7.pt\"\n",
    "\n",
    "# Go back to the original directory\n",
    "%cd .."
   ]
  },
  {
   "cell_type": "code",
   "execution_count": 2,
   "id": "f4673784-3e82-4691-8a80-95dfaf30bfce",
   "metadata": {},
   "outputs": [],
   "source": [
    "# Import required libraries\n",
    "import cv2\n",
    "import numpy as np\n",
    "import torch\n",
    "import sys\n",
    "sys.path.append('./yolov7')\n",
    "from models.experimental import attempt_load\n",
    "from utils.general import non_max_suppression, scale_coords\n",
    "from utils.torch_utils import select_device\n",
    "from IPython.display import display, clear_output\n",
    "from PIL import Image\n"
   ]
  },
  {
   "cell_type": "code",
   "execution_count": 3,
   "id": "6b2f3208-82cf-4552-8805-7d2acd465905",
   "metadata": {},
   "outputs": [
    {
     "data": {
      "image/jpeg": "[encoded data removed]",
      "image/png": "[encoded data removed]",
      "text/plain": [
       "<PIL.Image.Image image mode=RGB size=640x480>"
      ]
     },
     "metadata": {},
     "output_type": "display_data"
    },
    {
     "name": "stderr",
     "output_type": "stream",
     "text": [
      "\n",
      "KeyboardInterrupt\n",
      "\n"
     ]
    }
   ],
   "source": [
    "def detect_lines_and_curves(image):\n",
    "    gray = cv2.cvtColor(image, cv2.COLOR_BGR2GRAY)\n",
    "    edges = cv2.Canny(gray, 50, 150, apertureSize=3)\n",
    "    \n",
    "    # Detect lines\n",
    "    lines = cv2.HoughLinesP(edges, 1, np.pi/180, 100, minLineLength=100, maxLineGap=10)\n",
    "    \n",
    "    # Detect curves\n",
    "    contours, _ = cv2.findContours(edges, cv2.RETR_EXTERNAL, cv2.CHAIN_APPROX_SIMPLE)\n",
    "    \n",
    "    if lines is not None:\n",
    "        for line in lines:\n",
    "            x1, y1, x2, y2 = line[0]\n",
    "            cv2.line(image, (x1, y1), (x2, y2), (0, 255, 0), 2)\n",
    "    \n",
    "    for contour in contours:\n",
    "        if len(contour) > 50:  # Filter small contours\n",
    "            cv2.drawContours(image, [contour], 0, (0, 0, 255), 2)\n",
    "    \n",
    "    return image\n",
    "\n",
    "def detect_objects(image, model, device):\n",
    "    img = torch.from_numpy(image).to(device)\n",
    "    img = img.permute(2, 0, 1).float()\n",
    "    img /= 255.0\n",
    "    if img.ndimension() == 3:\n",
    "        img = img.unsqueeze(0)\n",
    "\n",
    "    pred = model(img)[0]\n",
    "    pred = non_max_suppression(pred, 0.25, 0.45, classes=None, agnostic=False)\n",
    "\n",
    "    objects_detected = False\n",
    "    for det in pred:\n",
    "        if len(det):\n",
    "            objects_detected = True\n",
    "            det[:, :4] = scale_coords(img.shape[2:], det[:, :4], image.shape).round()\n",
    "            for *xyxy, conf, cls in reversed(det):\n",
    "                label = f'{model.names[int(cls)]} {conf:.2f}'\n",
    "                cv2.rectangle(image, (int(xyxy[0]), int(xyxy[1])), (int(xyxy[2]), int(xyxy[3])), (255, 0, 0), 2)\n",
    "                cv2.putText(image, label, (int(xyxy[0]), int(xyxy[1]) - 10), cv2.FONT_HERSHEY_SIMPLEX, 0.9, (255, 0, 0), 2)\n",
    "\n",
    "    return image, objects_detected\n",
    "\n",
    "# Load YOLOv7 model\n",
    "device = select_device('')\n",
    "model = attempt_load('yolov7/yolov7.pt', map_location=device)\n",
    "\n",
    "# Main processing loop\n",
    "cap = cv2.VideoCapture(0)  # Use 0 for webcam or provide video file path\n",
    "\n",
    "while True:\n",
    "    ret, frame = cap.read()\n",
    "    if not ret:\n",
    "        break\n",
    "    \n",
    "    # Detect lines and curves\n",
    "    frame_with_lines_curves = detect_lines_and_curves(frame.copy())\n",
    "    \n",
    "    # Detect objects\n",
    "    frame_with_objects, objects_detected = detect_objects(frame, model, device)\n",
    "    \n",
    "    # Combine results\n",
    "    combined_frame = cv2.addWeighted(frame_with_lines_curves, 0.7, frame_with_objects, 0.3, 0)\n",
    "    \n",
    "    if objects_detected:\n",
    "        cv2.putText(combined_frame, \"STOP\", (50, 50), cv2.FONT_HERSHEY_SIMPLEX, 1, (0, 0, 255), 2)\n",
    "    \n",
    "    # Convert BGR to RGB\n",
    "    rgb_frame = cv2.cvtColor(combined_frame, cv2.COLOR_BGR2RGB)\n",
    "    \n",
    "    # Display the result\n",
    "    clear_output(wait=True)\n",
    "    display(Image.fromarray(rgb_frame))\n",
    "    \n",
    "    if cv2.waitKey(1) & 0xFF == ord('q'):qqqqq\n",
    "        break\n",
    "\n",
    "cap.release()\n",
    "cv2.destroyAllWindows()"
   ]
  },
  {
   "cell_type": "code",
   "execution_count": null,
   "id": "c47273aa-3fad-4d9d-8f51-5a8cd599bbab",
   "metadata": {},
   "outputs": [],
   "source": []
  }
 ],
 "metadata": {
  "kernelspec": {
   "display_name": "Python 3.12",
   "language": "python",
   "name": "python3.12"
  },
  "language_info": {
   "codemirror_mode": {
    "name": "ipython",
    "version": 3
   },
   "file_extension": ".py",
   "mimetype": "text/x-python",
   "name": "python",
   "nbconvert_exporter": "python",
   "pygments_lexer": "ipython3",
   "version": "3.12.5"
  }
 },
 "nbformat": 4,
 "nbformat_minor": 5
}
