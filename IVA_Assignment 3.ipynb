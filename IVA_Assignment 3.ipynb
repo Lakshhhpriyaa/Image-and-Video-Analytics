{
 "cells": [
  {
   "cell_type": "code",
   "execution_count": null,
   "id": "dd2d67c9",
   "metadata": {},
   "outputs": [],
   "source": [
    "import cv2\n",
    "import numpy as np\n",
    "import matplotlib.pyplot as plt\n",
    "from multiprocessing import Pool"
   ]
  },
  {
   "cell_type": "code",
   "execution_count": null,
   "id": "fda4303a",
   "metadata": {},
   "outputs": [],
   "source": [
    "# 1. Load the Image\n",
    "image = cv2.imread(\"C:/Users/rmlak/Downloads/images (2).jpeg\")\n",
    "image_rgb = cv2.cvtColor(image, cv2.COLOR_BGR2RGB)\n",
    "image_hsv = cv2.cvtColor(image, cv2.COLOR_BGR2HSV)\n",
    "gray = cv2.cvtColor(image, cv2.COLOR_BGR2GRAY)"
   ]
  },
  {
   "cell_type": "code",
   "execution_count": 2,
   "id": "947a667b",
   "metadata": {},
   "outputs": [],
   "source": [
    "# Step 1: Segment the Image using Edge Detection and Color Masking\n",
    "def segment_image(image):\n",
    "    # Convert to grayscale\n",
    "    gray = cv2.cvtColor(image, cv2.COLOR_BGR2GRAY)\n",
    "    \n",
    "    # Apply Canny Edge Detection\n",
    "    edges = cv2.Canny(gray, 100, 200)\n",
    "    \n",
    "    # Convert the image to HSV for color masking (for green apple and orange)\n",
    "    hsv = cv2.cvtColor(image, cv2.COLOR_BGR2HSV)\n",
    "\n",
    "    # Define color ranges for green apple and orange\n",
    "    green_lower = np.array([35, 50, 50])\n",
    "    green_upper = np.array([85, 255, 255])\n",
    "    \n",
    "    orange_lower = np.array([10, 100, 100])\n",
    "    orange_upper = np.array([25, 255, 255])\n",
    "    \n",
    "    # Create masks for green apple and orange\n",
    "    green_mask = cv2.inRange(hsv, green_lower, green_upper)\n",
    "    orange_mask = cv2.inRange(hsv, orange_lower, orange_upper)\n",
    "\n",
    "    # Combine masks with the edge-detected image\n",
    "    combined_mask = cv2.bitwise_or(green_mask, orange_mask)\n",
    "    combined_mask = cv2.bitwise_or(combined_mask, edges)\n",
    "    \n",
    "    # Threshold the combined mask\n",
    "    _, thresholded = cv2.threshold(combined_mask, 0, 255, cv2.THRESH_BINARY)\n",
    "\n",
    "    return thresholded"
   ]
  },
  {
   "cell_type": "code",
   "execution_count": 3,
   "id": "92a09f62",
   "metadata": {},
   "outputs": [],
   "source": [
    "# Step 2: Identify the Objects of Interest and Extract Features\n",
    "def extract_features(image, thresholded):\n",
    "    contours, _ = cv2.findContours(thresholded, cv2.RETR_EXTERNAL, cv2.CHAIN_APPROX_SIMPLE)\n",
    "\n",
    "    features = {\n",
    "        \"Area\": [],\n",
    "        \"Perimeter\": [],\n",
    "        \"Bounding Box\": [],\n",
    "        \"Centroid\": [],\n",
    "        \"Color Histogram\": []\n",
    "    }\n",
    "\n",
    "    gray = cv2.cvtColor(image, cv2.COLOR_BGR2GRAY)\n",
    "\n",
    "    for contour in contours:\n",
    "        # Shape Features\n",
    "        area = cv2.contourArea(contour)\n",
    "        perimeter = cv2.arcLength(contour, True)\n",
    "        x, y, w, h = cv2.boundingRect(contour)\n",
    "        M = cv2.moments(contour)\n",
    "        if M[\"m00\"] != 0:\n",
    "            cX = int(M[\"m10\"] / M[\"m00\"])\n",
    "            cY = int(M[\"m01\"] / M[\"m00\"])\n",
    "        else:\n",
    "            cX, cY = 0, 0\n",
    "\n",
    "        # Color Features\n",
    "        mask = np.zeros(gray.shape, np.uint8)\n",
    "        cv2.drawContours(mask, [contour], -1, 255, -1)\n",
    "        masked_img = cv2.bitwise_and(image, image, mask=mask)\n",
    "        hist = cv2.calcHist([masked_img], [0, 1, 2], mask, [8, 8, 8], [0, 256, 0, 256, 0, 256])\n",
    "        hist = cv2.normalize(hist, hist).flatten()\n",
    "\n",
    "        # Store features\n",
    "        features[\"Area\"].append(area)\n",
    "        features[\"Perimeter\"].append(perimeter)\n",
    "        features[\"Bounding Box\"].append((x, y, w, h))\n",
    "        features[\"Centroid\"].append((cX, cY))\n",
    "        features[\"Color Histogram\"].append(hist.tolist())  # Save as a list to be CSV-compatible\n",
    "\n",
    "    return pd.DataFrame(features)\n"
   ]
  },
  {
   "cell_type": "code",
   "execution_count": 4,
   "id": "6419962e",
   "metadata": {},
   "outputs": [],
   "source": [
    "# Step 3: Create a Reference Feature Set for Oranges and Green Apples\n",
    "def create_reference_features():\n",
    "    reference_images = {\n",
    "        \"orange\": \"orange.jpg\",\n",
    "        \"green_apple\": \"green.jpg\"\n",
    "    }\n",
    "    reference_features = {}\n",
    "\n",
    "    for label, img_path in reference_images.items():\n",
    "        features_csv = f\"{label}_features.csv\"\n",
    "        if os.path.exists(features_csv):\n",
    "            # Load features if already saved\n",
    "            print(f\"Loading saved features for {label} from {features_csv}\")\n",
    "            reference_features[label] = pd.read_csv(features_csv, converters={\"Color Histogram\": eval})\n",
    "        else:\n",
    "            # Extract and save features\n",
    "            print(f\"Extracting and saving features for {label}\")\n",
    "            image = cv2.imread(img_path)\n",
    "            if image is None:\n",
    "                print(f\"Error: Image {img_path} not found.\")\n",
    "                continue\n",
    "            thresholded = segment_image(image)\n",
    "            features_df = extract_features(image, thresholded)\n",
    "            features_df.to_csv(features_csv, index=False)\n",
    "            reference_features[label] = features_df\n",
    "\n",
    "    return reference_features"
   ]
  },
  {
   "cell_type": "code",
   "execution_count": 5,
   "id": "7c72f019",
   "metadata": {},
   "outputs": [],
   "source": [
    "# Step 4: Extract Features from a Given Bounding Box\n",
    "def extract_features_from_bbox(image, bbox):\n",
    "    x, y, w, h = bbox\n",
    "    cropped_image = image[y:y+h, x:x+w]\n",
    "    mask = np.ones(cropped_image.shape[:2], dtype=\"uint8\") * 255\n",
    "    hist = cv2.calcHist([cropped_image], [0, 1, 2], mask, [8, 8, 8], [0, 256, 0, 256, 0, 256])\n",
    "    hist = cv2.normalize(hist, hist).flatten()\n",
    "    return hist\n"
   ]
  },
  {
   "cell_type": "code",
   "execution_count": 6,
   "id": "de448b73",
   "metadata": {},
   "outputs": [],
   "source": [
    "# Step 5: Compare Features for Object Detection\n",
    "def compare_features(reference_features, target_histogram):\n",
    "    best_match = None\n",
    "    best_distance = float('inf')\n",
    "\n",
    "    for label, ref_features_df in reference_features.items():\n",
    "        for ref_index, ref_row in ref_features_df.iterrows():\n",
    "            ref_histogram = np.array(ref_row[\"Color Histogram\"])\n",
    "            dist = distance.euclidean(ref_histogram, target_histogram)\n",
    "\n",
    "            if dist < best_distance:\n",
    "                best_distance = dist\n",
    "                best_match = label\n",
    "\n",
    "    return best_match, best_distance"
   ]
  },
  {
   "cell_type": "code",
   "execution_count": 7,
   "id": "5edf8cbb",
   "metadata": {},
   "outputs": [],
   "source": [
    "# Step 6: Detect and Label Object in a Provided Bounding Box\n",
    "def detect_and_label_bbox(image, bbox, reference_features):\n",
    "    target_histogram = extract_features_from_bbox(image, bbox)\n",
    "    label, similarity_index = compare_features(reference_features, target_histogram)\n",
    "\n",
    "    x, y, w, h = bbox\n",
    "    cv2.rectangle(image, (x, y), (x + w, y + h), (0, 255, 0), 2)\n",
    "    label_text = f\"{label} ({similarity_index:.2f})\"\n",
    "    cv2.putText(image, label_text, (x, y - 10), cv2.FONT_HERSHEY_SIMPLEX, 0.9, (0, 255, 0), 2)\n",
    "\n",
    "    return image, similarity_index"
   ]
  },
  {
   "cell_type": "code",
   "execution_count": 8,
   "id": "9b0097ab",
   "metadata": {},
   "outputs": [
    {
     "name": "stdout",
     "output_type": "stream",
     "text": [
      "Loading saved features for orange from orange_features.csv\n",
      "Loading saved features for green_apple from green_apple_features.csv\n"
     ]
    }
   ],
   "source": [
    "# Step 7: Create Reference Features\n",
    "reference_features = create_reference_features()"
   ]
  },
  {
   "cell_type": "code",
   "execution_count": null,
   "id": "9da04df3",
   "metadata": {},
   "outputs": [],
   "source": [
    "# Step 8: Load the Target Image\n",
    "target_image_path = \"images.jpeg\"\n",
    "target_image = cv2.imread(target_image_path)\n",
    "\n",
    "# Let the user select the bounding box\n",
    "if target_image is None:\n",
    "    print(f\"Error: Image {target_image_path} not found.\")\n",
    "else:\n",
    "    bbox = cv2.selectROI(\"Select Bounding Box\", target_image, fromCenter=False, showCrosshair=True)\n",
    "    cv2.destroyWindow(\"Select Bounding Box\")\n",
    "    if bbox is not None:\n",
    "        labeled_image, similarity_index = detect_and_label_bbox(target_image, bbox, reference_features)\n",
    "\n",
    "        # Save and display the result\n",
    "        detected_image_path = \"detected_and_labeled_target.jpg\"\n",
    "        cv2.imwrite(detected_image_path, labeled_image)\n",
    "\n",
    "        # Display the result\n",
    "        plt.figure(figsize=(10, 10))\n",
    "        plt.imshow(cv2.cvtColor(labeled_image, cv2.COLOR_BGR2RGB))\n",
    "        plt.title(f\"Detected and Labeled Object - Similarity Index: {similarity_index:.2f}\")\n",
    "        plt.axis('off')\n",
    "        plt.show()\n",
    "\n",
    "        print(f\"Detected and labeled object saved as {detected_image_path}\")\n",
    "        print(f\"Similarity index: {similarity_index:.2f}\")"
   ]
  },
  {
   "cell_type": "code",
   "execution_count": null,
   "id": "cd46a17d",
   "metadata": {},
   "outputs": [],
   "source": []
  }
 ],
 "metadata": {
  "kernelspec": {
   "display_name": "Python 3 (ipykernel)",
   "language": "python",
   "name": "python3"
  },
  "language_info": {
   "codemirror_mode": {
    "name": "ipython",
    "version": 3
   },
   "file_extension": ".py",
   "mimetype": "text/x-python",
   "name": "python",
   "nbconvert_exporter": "python",
   "pygments_lexer": "ipython3",
   "version": "3.7.13"
  }
 },
 "nbformat": 4,
 "nbformat_minor": 5
}
